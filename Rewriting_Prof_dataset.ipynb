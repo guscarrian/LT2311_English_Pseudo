{
 "cells": [
  {
   "cell_type": "code",
   "execution_count": 2,
   "metadata": {},
   "outputs": [],
   "source": [
    "import os\n",
    "from csv import reader\n",
    "import pandas as pd"
   ]
  },
  {
   "cell_type": "code",
   "execution_count": 3,
   "metadata": {},
   "outputs": [],
   "source": [
    "#Current working directory: '/home/andrea/repos'\n",
    "root = os. getcwd()\n",
    "\n",
    "#Getting absolute path to the files we will be working with\n",
    "swe_prof = root + '/Pseudonymization/dataset/Prof_dataset.csv'\n",
    "eng_prof = root + '/NER_corpus_Collated_Positions_All_18June2020.csv'"
   ]
  },
  {
   "cell_type": "code",
   "execution_count": 126,
   "metadata": {},
   "outputs": [],
   "source": [
    "#Getting the header from the original Swedish job title list but we will not include SSYK codes\n",
    "with open(swe_prof, 'r') as read_obj:\n",
    "    csv_reader = reader(read_obj)\n",
    "    header = next(csv_reader)\n",
    "    #print('header:', header)\n",
    "    init = header[0] + ','\n",
    "    yrke = header[2] + '\\n'\n",
    "    #print('yrke:', yrke)\n",
    "    new_header = [init, yrke]\n",
    "    #print('new_header:', new_header)"
   ]
  },
  {
   "cell_type": "code",
   "execution_count": 127,
   "metadata": {},
   "outputs": [],
   "source": [
    "#Getting a list with all the job titles from the English job dataset\n",
    "eng_dataset = pd.read_csv(eng_prof)\n",
    "eng_job_title = eng_dataset['Processed_Title'].tolist()"
   ]
  },
  {
   "cell_type": "code",
   "execution_count": 128,
   "metadata": {},
   "outputs": [],
   "source": [
    "#Removing whitespaces at the beginning and end of each job title\n",
    "clean_jobs = []\n",
    "for item in eng_job_title:\n",
    "    x = item.strip() #.strip() removes initial and final whitespaces\n",
    "    clean_jobs.append(x)"
   ]
  },
  {
   "cell_type": "code",
   "execution_count": 129,
   "metadata": {},
   "outputs": [
    {
     "data": {
      "text/plain": [
       "475073"
      ]
     },
     "execution_count": 129,
     "metadata": {},
     "output_type": "execute_result"
    }
   ],
   "source": [
    "#Checking number of job titles (some are repeated)\n",
    "len(clean_jobs)"
   ]
  },
  {
   "cell_type": "code",
   "execution_count": 130,
   "metadata": {},
   "outputs": [],
   "source": [
    "#Adding a new line at the end of each job title (just for formatting)\n",
    "final_jobs = []\n",
    "for item in clean_jobs:\n",
    "    x = item + '\\n'\n",
    "    final_jobs.append(x)"
   ]
  },
  {
   "cell_type": "code",
   "execution_count": 97,
   "metadata": {},
   "outputs": [],
   "source": [
    "#final_jobs"
   ]
  },
  {
   "cell_type": "code",
   "execution_count": 131,
   "metadata": {},
   "outputs": [],
   "source": [
    "#Removing repeated job titles by turning the list into a dict and picking up the keys \n",
    "#(which don't allow repetition)\n",
    "eng_jobs = list(dict.fromkeys(final_jobs))"
   ]
  },
  {
   "cell_type": "code",
   "execution_count": 132,
   "metadata": {},
   "outputs": [
    {
     "data": {
      "text/plain": [
       "196480"
      ]
     },
     "execution_count": 132,
     "metadata": {},
     "output_type": "execute_result"
    }
   ],
   "source": [
    "#Checking the number of job titles without repetition [196480 in total]\n",
    "len(eng_jobs)"
   ]
  },
  {
   "cell_type": "code",
   "execution_count": 133,
   "metadata": {},
   "outputs": [],
   "source": [
    "num = []\n",
    "for number in range(0, len(eng_jobs)):\n",
    "    x = str(number)\n",
    "    x += ','\n",
    "    num.append(x)"
   ]
  },
  {
   "cell_type": "code",
   "execution_count": 112,
   "metadata": {},
   "outputs": [],
   "source": [
    "#num"
   ]
  },
  {
   "cell_type": "code",
   "execution_count": 134,
   "metadata": {},
   "outputs": [],
   "source": [
    "#Combining both lists (num & eng_jobs)\n",
    "combo = list(zip(num, eng_jobs))"
   ]
  },
  {
   "cell_type": "code",
   "execution_count": 104,
   "metadata": {},
   "outputs": [],
   "source": [
    "#combo"
   ]
  },
  {
   "cell_type": "code",
   "execution_count": 135,
   "metadata": {},
   "outputs": [],
   "source": [
    "#Making the final job list --> nested list [[line count, job title]]\n",
    "eng_joblist = [new_header] #adding the header from the Swedish job title list but modified (no SSYK code)\n",
    "for item in combo:\n",
    "    eng_joblist.append([item[0], item[1]])   "
   ]
  },
  {
   "cell_type": "code",
   "execution_count": 139,
   "metadata": {},
   "outputs": [],
   "source": [
    "#eng_joblist"
   ]
  },
  {
   "cell_type": "code",
   "execution_count": 137,
   "metadata": {},
   "outputs": [],
   "source": [
    "def rewriting_file(filename, data):\n",
    "    #data = output from final_data\n",
    "    #the output is a nested list and we will convert it to string\n",
    "    new_data = \"\".join([''.join([str(c) for c in lst]) for lst in data])\n",
    "    \n",
    "    with open(filename, 'w') as file:\n",
    "        file.write(new_data)"
   ]
  },
  {
   "cell_type": "code",
   "execution_count": 138,
   "metadata": {},
   "outputs": [],
   "source": [
    "#Rewriting the swe file with the list of job titles in English\n",
    "rewriting_file(swe_prof, eng_joblist)"
   ]
  },
  {
   "cell_type": "code",
   "execution_count": null,
   "metadata": {},
   "outputs": [],
   "source": []
  }
 ],
 "metadata": {
  "kernelspec": {
   "display_name": "Python 3",
   "language": "python",
   "name": "python3"
  },
  "language_info": {
   "codemirror_mode": {
    "name": "ipython",
    "version": 3
   },
   "file_extension": ".py",
   "mimetype": "text/x-python",
   "name": "python",
   "nbconvert_exporter": "python",
   "pygments_lexer": "ipython3",
   "version": "3.7.6"
  }
 },
 "nbformat": 4,
 "nbformat_minor": 4
}
