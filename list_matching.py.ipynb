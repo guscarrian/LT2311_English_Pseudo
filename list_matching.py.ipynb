{
 "cells": [
  {
   "cell_type": "code",
   "execution_count": 5,
   "metadata": {},
   "outputs": [],
   "source": [
    "import os\n",
    "from csv import reader"
   ]
  },
  {
   "cell_type": "code",
   "execution_count": 4,
   "metadata": {},
   "outputs": [
    {
     "name": "stdout",
     "output_type": "stream",
     "text": [
      "root: /home/andrea/repos/Pseudo_English\n",
      "csv_path: /home/andrea/repos/Pseudo_English/cityCountry.csv\n"
     ]
    }
   ],
   "source": [
    "# Locating the file we want to read:\n",
    "# Current working directory: '/home/andrea/repos'\n",
    "root = os. getcwd() \n",
    "# Absolute path to the .csv file\n",
    "csv_path = root + '/cityCountry.csv'\n",
    "\n",
    "print('root:', root)\n",
    "print('csv_path:', csv_path)"
   ]
  },
  {
   "cell_type": "code",
   "execution_count": 21,
   "metadata": {},
   "outputs": [
    {
     "name": "stdout",
     "output_type": "stream",
     "text": [
      "['Bahamas', 'Storbritannien', 'Grekland', 'Indien', 'Tyskland', 'Demokratiska Republiken Kongo', 'Frankrike', 'Filippinerna', 'Portugal', 'Rumänien', 'USA', 'Nederländerna', 'Belgien', 'Mongoliet', 'Spanien', 'Mexiko', 'Ryssland', 'Peru', 'Slovakien', 'Österrike', 'Malaysia', 'Italien', 'Lettland', 'Myanmar', 'Turkiet', 'Brasilien', 'Uganda', 'Mikronesien', 'Venezuela', 'Bolivia', 'Kina', 'Tanzania', 'Uzbekistan', 'Indonesien', 'Schweiz', 'Kanada', 'Vietnam', 'Ungern', 'El Salvador', 'Polen', 'Haiti', 'Centralafrikanska republiken', 'Kroatien', 'Kambodja', 'Tunisien', 'Tjeckien', 'Pakistan', 'Dominikanska republiken', 'Bulgarien', 'Uruguay', 'Guatemala', 'Armenien', 'Slovenien', 'Jemen', 'Kenya', 'Japan', 'Australien', 'Nigeria', 'Serbien', 'Albanien', 'Ukraina', 'Irland', 'Luxemburg', 'Colombia', 'Moçambique', 'Ghana', 'Irak', 'Georgien', 'Syrien', 'Libyen', 'Senegal', 'Estland', 'Iran', 'Vitryssland', 'Algeriet', 'Kirgizistan', 'Argentina', 'Marocko', 'Afghanistan', 'Thailand', 'Panama', 'Gambia', 'Sydafrika', 'Finland', 'Bosnien och Hercegovina', 'Zimbabwe', 'Sudan', 'Republiken Kongo', 'Madagaskar', 'Etiopien', 'Papua Nya Guinea', 'Honduras', 'Sydkorea', 'Palestina', 'Ekvatorialguinea', 'Förenade Arabemiraten', 'Ecuador', 'Mauretanien', 'Nepal', 'Benin', 'Nordkorea', 'Dominica', 'Paraguay', 'Malta', 'Israel', 'San Marino', 'Norge', 'Saint Martin', 'Sierra Leone', 'Puerto Rico', 'Kap Verde', 'Egypten', 'Makedonien', 'Nicaragua', 'Liberia', 'Nya Zeeland', 'Elfenbenskusten', 'Guinea', 'Danmark', 'Niger', 'Saint Kitts och Nevis', 'Azerbajdzjan', 'Chile', 'Kuba', 'Litauen', 'Samoa', 'Saudiarabien', 'Kazakstan', 'Kosovo', 'Botswana', 'Guinea-Bissau', 'Tchad', 'Montenegro', 'Kamerun', 'Gabon', 'Costa Rica', 'Palau', 'Djibouti', 'Bhutan', 'Tadzjikistan', 'Västsahara', 'Franska Guyana', 'Burkina Faso', 'Laos', 'Angola', 'Sri Lanka', 'Moldavien', 'Cypern', 'Guam', 'Malawi', 'Mali', 'Sydsudan', 'Kiribati', 'Martinique', 'Libanon', 'Oman', 'Turkmenistan', 'Somalia', 'Swaziland', 'Mauritius', 'Guadeloupe', 'Timor Leste', 'Bangladesh', 'Grönland', 'Tonga', 'Maldiverna', 'Guernsey', 'Bonaire', 'Taiwan', 'Franska Polynesien', 'Grenada', 'Togo', 'Jamaica', 'Jordanien', 'Färöarna', 'Brunei', 'Qatar', 'Vanuatu', 'Nauru', 'Belize', 'Andorra', 'Nordmarianerna', 'Tokelauöarna', 'Island', 'Zambia', 'Barbados', 'Komorerna', 'Rwanda', 'Isle of Man', 'Nya Kaledonien', 'Åland Islands', 'Saint Lucia', 'Réunion', 'Mayotte', 'Caymanöarna', 'Lesotho', 'Eritrea', 'São Tomé och Príncipe', 'Guyana', 'Amerikanska Samoa', 'Wallis och Futuna', 'Kuwait', 'Hong Kong', 'Seychellerna', 'Saint Vincent och Grenadinerna', 'Bahrain', 'Burundi', 'Fiji', 'Montserrat', 'Trinidad och Tobago', 'Tuvalu', 'Marshallöarna', 'Liechtenstein', 'Anguilla', 'Sydgeorgien och Sydsandwichöarna', 'Aruba', 'Monaco', 'Vatikanstaten', 'Surinam', 'Antigua och Barbuda', 'Sint Maarten', 'Pitcairnöarna', 'Saint-Pierre och Miquelon', 'Macao', 'Sankt Helena', 'Niue', 'Amerikanska Jungfruöarna', 'Curaçao', 'Singapore', 'Gibraltar', 'Salomonöarna', 'Julön', 'Franska södra territorier', 'Svalbard', 'Brittiska Jungfruöarna', 'Jersey', 'Bermuda', 'Saint Barthélemy', 'Cooköarna', 'Antarktis', 'Kokosöarna', 'Turks och Caicosöarna']\n",
      "242\n"
     ]
    }
   ],
   "source": [
    "# open file in read mode\n",
    "with open('cityCountry.csv', 'r') as read_obj:\n",
    "    countries = []\n",
    "    # pass the file object to reader() to get the reader object\n",
    "    csv_reader = reader(read_obj)\n",
    "    header = next(csv_reader)\n",
    "    #print('csv:', csv_reader)\n",
    "    # Iterate over each row in the csv using reader object\n",
    "    for row in csv_reader:\n",
    "        # row variable is a list that represents a row in csv\n",
    "        #print(row[1])\n",
    "        if row[1] not in countries:\n",
    "            countries.append(row[1])\n",
    "    print(countries)\n",
    "    print(len(countries))"
   ]
  },
  {
   "cell_type": "code",
   "execution_count": 23,
   "metadata": {},
   "outputs": [
    {
     "name": "stdout",
     "output_type": "stream",
     "text": [
      "['Andorra', 'United Arab Emirates', 'Afghanistan', 'Antigua and Barbuda', 'Anguilla', 'Albania', 'Armenia', 'Angola', 'Antarctica', 'Argentina', 'American Samoa', 'Austria', 'Australia', 'Aruba', 'Åland', 'Azerbaijan', 'Bosnia and Herzegovina', 'Barbados', 'Bangladesh', 'Belgium', 'Burkina Faso', 'Bulgaria', 'Bahrain', 'Burundi', 'Benin', 'Saint Barthélemy', 'Bermuda', 'Brunei', 'Bolivia', 'Bonaire, Sint Eustatius, and Saba', 'Brazil', 'Bahamas', 'Bhutan', 'Bouvet Island', 'Botswana', 'Belarus', 'Belize', 'Canada', 'Cocos (Keeling) Islands', 'DR Congo', 'Central African Republic', 'Congo Republic', 'Switzerland', 'Ivory Coast', 'Cook Islands', 'Chile', 'Cameroon', 'China', 'Colombia', 'Costa Rica', 'Cuba', 'Cabo Verde', 'Curaçao', 'Christmas Island', 'Cyprus', 'Czechia', 'Germany', 'Djibouti', 'Denmark', 'Dominica', 'Dominican Republic', 'Algeria', 'Ecuador', 'Estonia', 'Egypt', 'Western Sahara', 'Eritrea', 'Spain', 'Ethiopia', 'Finland', 'Fiji', 'Falkland Islands', 'Micronesia', 'Faroe Islands', 'France', 'Gabon', 'United Kingdom', 'Grenada', 'Georgia', 'French Guiana', 'Guernsey', 'Ghana', 'Gibraltar', 'Greenland', 'The Gambia', 'Guinea', 'Guadeloupe', 'Equatorial Guinea', 'Greece', 'South Georgia and South Sandwich Islands', 'Guatemala', 'Guam', 'Guinea-Bissau', 'Guyana', 'Hong Kong', 'Heard and McDonald Islands', 'Honduras', 'Croatia', 'Haiti', 'Hungary', 'Indonesia', 'Ireland', 'Israel', 'Isle of Man', 'India', 'British Indian Ocean Territory', 'Iraq', 'Iran', 'Iceland', 'Italy', 'Jersey', 'Jamaica', 'Jordan', 'Japan', 'Kenya', 'Kyrgyzstan', 'Cambodia', 'Kiribati', 'Comoros', 'St Kitts and Nevis', 'North Korea', 'South Korea', 'Kuwait', 'Cayman Islands', 'Kazakhstan', 'Laos', 'Lebanon', 'Saint Lucia', 'Liechtenstein', 'Sri Lanka', 'Liberia', 'Lesotho', 'Lithuania', 'Luxembourg', 'Latvia', 'Libya', 'Morocco', 'Monaco', 'Moldova', 'Montenegro', 'Saint Martin', 'Madagascar', 'Marshall Islands', 'North Macedonia', 'Mali', 'Myanmar', 'Mongolia', 'Macao', 'Northern Mariana Islands', 'Martinique', 'Mauritania', 'Montserrat', 'Malta', 'Mauritius', 'Maldives', 'Malawi', 'Mexico', 'Malaysia', 'Mozambique', 'Namibia', 'New Caledonia', 'Niger', 'Norfolk Island', 'Nigeria', 'Nicaragua', 'Netherlands', 'Norway', 'Nepal', 'Nauru', 'Niue', 'New Zealand', 'Oman', 'Panama', 'Peru', 'French Polynesia', 'Papua New Guinea', 'Philippines', 'Pakistan', 'Poland', 'Saint Pierre and Miquelon', 'Pitcairn Islands', 'Puerto Rico', 'Palestine', 'Portugal', 'Palau', 'Paraguay', 'Qatar', 'Réunion', 'Romania', 'Serbia', 'Russia', 'Rwanda', 'Saudi Arabia', 'Solomon Islands', 'Seychelles', 'Sudan', 'Sweden', 'Singapore', 'Saint Helena', 'Slovenia', 'Svalbard and Jan Mayen', 'Slovakia', 'Sierra Leone', 'San Marino', 'Senegal', 'Somalia', 'Suriname', 'South Sudan', 'São Tomé and Príncipe', 'El Salvador', 'Sint Maarten', 'Syria', 'Eswatini', 'Turks and Caicos Islands', 'Chad', 'French Southern Territories', 'Togo', 'Thailand', 'Tajikistan', 'Tokelau', 'Timor-Leste', 'Turkmenistan', 'Tunisia', 'Tonga', 'Turkey', 'Trinidad and Tobago', 'Tuvalu', 'Taiwan', 'Tanzania', 'Ukraine', 'Uganda', 'U.S. Outlying Islands', 'United States', 'Uruguay', 'Uzbekistan', 'Vatican City', 'St Vincent and Grenadines', 'Venezuela', 'British Virgin Islands', 'U.S. Virgin Islands', 'Vietnam', 'Vanuatu', 'Wallis and Futuna', 'Samoa', 'Kosovo', 'Yemen', 'Mayotte', 'South Africa', 'Zambia', 'Zimbabwe']\n",
      "250\n"
     ]
    }
   ],
   "source": [
    "with open('geonames_cityCountry.csv', 'r') as read_obj:\n",
    "    countries = []\n",
    "    csv_reader = reader(read_obj)\n",
    "    header = next(csv_reader)\n",
    "    for row in csv_reader:\n",
    "        if row[0] not in countries:\n",
    "            countries.append(row[0])\n",
    "    print(countries)\n",
    "    print(len(countries))"
   ]
  },
  {
   "cell_type": "code",
   "execution_count": null,
   "metadata": {},
   "outputs": [],
   "source": []
  }
 ],
 "metadata": {
  "kernelspec": {
   "display_name": "Python 3",
   "language": "python",
   "name": "python3"
  },
  "language_info": {
   "codemirror_mode": {
    "name": "ipython",
    "version": 3
   },
   "file_extension": ".py",
   "mimetype": "text/x-python",
   "name": "python",
   "nbconvert_exporter": "python",
   "pygments_lexer": "ipython3",
   "version": "3.7.6"
  }
 },
 "nbformat": 4,
 "nbformat_minor": 4
}
